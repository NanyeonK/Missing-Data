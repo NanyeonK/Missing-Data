{
 "cells": [
  {
   "cell_type": "markdown",
   "metadata": {},
   "source": [
    "Part 1 은 결측값 대치를 포함한 원칙적 접근법을 고려한다."
   ]
  },
  {
   "cell_type": "markdown",
   "metadata": {},
   "source": [
    "그렇다면, missing data는 무엇인가? 일반적으로 프로그램에서 nan() value로 표현되는 missing data는 다음과 같은 definition을 가진다.\n",
    "Definition 1.1 Missing data are unobserved values that would be meaningful for analysis if observed; in other words, a missing value hides a meaningful value."
   ]
  },
  {
   "cell_type": "code",
   "execution_count": null,
   "metadata": {},
   "outputs": [],
   "source": []
  }
 ],
 "metadata": {
  "language_info": {
   "name": "python"
  }
 },
 "nbformat": 4,
 "nbformat_minor": 2
}
